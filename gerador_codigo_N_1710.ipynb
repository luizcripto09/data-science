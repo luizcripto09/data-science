{
 "cells": [
  {
   "cell_type": "code",
   "execution_count": 1,
   "id": "58ba0d7c",
   "metadata": {},
   "outputs": [
    {
     "ename": "NameError",
     "evalue": "name 'pd' is not defined",
     "output_type": "error",
     "traceback": [
      "\u001b[1;31m---------------------------------------------------------------------------\u001b[0m",
      "\u001b[1;31mNameError\u001b[0m                                 Traceback (most recent call last)",
      "\u001b[1;32m~\\AppData\\Local\\Temp\\ipykernel_1784\\4171861114.py\u001b[0m in \u001b[0;36m<module>\u001b[1;34m\u001b[0m\n\u001b[0;32m      1\u001b[0m \u001b[1;31m# Passo 1 leitura dos dataframes\u001b[0m\u001b[1;33m\u001b[0m\u001b[1;33m\u001b[0m\u001b[0m\n\u001b[0;32m      2\u001b[0m \u001b[1;33m\u001b[0m\u001b[0m\n\u001b[1;32m----> 3\u001b[1;33m \u001b[0mcategoria_df\u001b[0m \u001b[1;33m=\u001b[0m \u001b[0mpd\u001b[0m\u001b[1;33m.\u001b[0m\u001b[0mread_excel\u001b[0m\u001b[1;33m(\u001b[0m\u001b[0mcaminho_pasta_N_1710\u001b[0m \u001b[1;33m,\u001b[0m \u001b[0msheet_name\u001b[0m \u001b[1;33m=\u001b[0m \u001b[1;34m\"Categoria\"\u001b[0m\u001b[1;33m)\u001b[0m\u001b[1;33m\u001b[0m\u001b[1;33m\u001b[0m\u001b[0m\n\u001b[0m\u001b[0;32m      4\u001b[0m \u001b[0mInstalação_de_interesse_df\u001b[0m \u001b[1;33m=\u001b[0m \u001b[0mpd\u001b[0m\u001b[1;33m.\u001b[0m\u001b[0mread_excel\u001b[0m\u001b[1;33m(\u001b[0m\u001b[0mcaminho_pasta_N_1710\u001b[0m\u001b[1;33m,\u001b[0m \u001b[0msheet_name\u001b[0m \u001b[1;33m=\u001b[0m \u001b[1;34m\"Instalação de interesse\"\u001b[0m\u001b[1;33m)\u001b[0m\u001b[1;33m\u001b[0m\u001b[1;33m\u001b[0m\u001b[0m\n\u001b[0;32m      5\u001b[0m \u001b[0mAtividades_de_interesse_df\u001b[0m \u001b[1;33m=\u001b[0m \u001b[0mpd\u001b[0m\u001b[1;33m.\u001b[0m\u001b[0mread_excel\u001b[0m\u001b[1;33m(\u001b[0m\u001b[0mcaminho_pasta_N_1710\u001b[0m\u001b[1;33m,\u001b[0m \u001b[0msheet_name\u001b[0m \u001b[1;33m=\u001b[0m \u001b[1;34m\"Atividades de interesse\"\u001b[0m\u001b[1;33m)\u001b[0m\u001b[1;33m\u001b[0m\u001b[1;33m\u001b[0m\u001b[0m\n",
      "\u001b[1;31mNameError\u001b[0m: name 'pd' is not defined"
     ]
    }
   ],
   "source": [
    "# Passo 1 leitura dos dataframes\n",
    "\n",
    "categoria_df = pd.read_excel(caminho_pasta_N_1710 , sheet_name = \"Categoria\")\n",
    "Instalação_de_interesse_df = pd.read_excel(caminho_pasta_N_1710, sheet_name = \"Instalação de interesse\")\n",
    "Atividades_de_interesse_df = pd.read_excel(caminho_pasta_N_1710, sheet_name = \"Atividades de interesse\")\n",
    "Serviços_Interesse_df = pd.read_excel(caminho_pasta_N_1710, sheet_name = \"Serviços_Interesse\")\n",
    "TODOSDOC_df = pd.read_excel(caminho_pasta_N_1710, sheet_name = \"TODOSDOC\")\n",
    "\n",
    "infoUEP_df = pd.read_excel(caminho_pasta_informacoes_uep) #PEGA A INFORMAÇÃO DA PLANILHA DE INFORMAÇÕES UEP\n",
    "\n",
    "# Passo 2 - qual tipo de documento (só permita os valores que estão na coluna )\n",
    "\n",
    "while True:\n",
    "    variavelDOC = input(\"Qual tipo de documento você deseja pesquisar? \")\n",
    "    variavelDOC = variavelDOC.upper().strip()\n",
    "    matches = categoria_df['codigo'].str.contains(variavelDOC).sum()\n",
    "    if matches >= 1:\n",
    "        break\n",
    "    else:\n",
    "        print(\"Valor não encontrado. Por favor, escolha uma opção válida.\")\n",
    "        #display (categoria_df)\n",
    "\n",
    "# Passo 3 - pede UEP de interesse (Mas só permita os valores que estão na coluna \"UEP) E RETORNA O CODIGO!!\n",
    "while True:\n",
    "    variavelUEP = input(\"Qual UEP você deseja pesquisar? \")\n",
    "    variavelUEP = variavelUEP.upper().strip()\n",
    "    matches2 = Instalação_de_interesse_df['UEP'].str.contains(variavelUEP).sum()\n",
    "    matches3 = Instalação_de_interesse_df['apelido'].str.contains(variavelUEP).sum()\n",
    "    if matches2>0 or matches3>0:\n",
    "        codigovariavelUEP = Instalação_de_interesse_df.loc[(Instalação_de_interesse_df['UEP'] == variavelUEP) | (Instalação_de_interesse_df['apelido'] == variavelUEP), 'codigo'].values[0]\n",
    "        variavelUEP = Instalação_de_interesse_df.loc[(Instalação_de_interesse_df['UEP'] == variavelUEP) | (Instalação_de_interesse_df['apelido'] == variavelUEP), 'UEP'].values[0]\n",
    "        break\n",
    "    else:\n",
    "        #display(Instalação_de_interesse_df)\n",
    "        print(\"Valor não encontrado. Por favor, escolha uma opção válida.\")\n",
    "\n",
    "# Passo 4 verificando o tipo de unidade que é\n",
    "variavelTIPOUEP = infoUEP_df.loc[infoUEP_df['UEP'] == variavelUEP, 'Tipo UEP'].values[0]\n",
    "\n",
    "if variavelTIPOUEP == \"SS\" or variavelTIPOUEP == \"TLWP\":\n",
    "    variavelTIPOUEP = \"SS\"\n",
    "elif variavelTIPOUEP == \"FPSO SPREAD\" or variavelTIPOUEP == \"FPSO TURRET\":\n",
    "    variavelTIPOUEP = \"FPSO\"\n",
    "\n",
    "# Passo 5 verificando se é um equipamento especial\n",
    "while True:\n",
    "    equipamentoEspecial = input(\"É referente a um equipamento especial? (Sim (S) ou Não (N)) \")\n",
    "    equipamentoEspecial = equipamentoEspecial.upper().strip()\n",
    "    if equipamentoEspecial == \"SIM\" or equipamentoEspecial == \"S\":\n",
    "        variavelTIPOUEP = \"equipamentos especiais\"\n",
    "        break\n",
    "    elif equipamentoEspecial == \"NÃO\" or equipamentoEspecial == \"N\":\n",
    "        break\n",
    "    else:\n",
    "        print(\"Resposta inválida. Por favor, escolha entre Sim ou S ou Não ou N.\")\n",
    "\n",
    "# Passo 6 pegando o código referente ao tipo de sistema \n",
    "codigo_variavelUEP = str(Atividades_de_interesse_df.loc[Atividades_de_interesse_df['apelido'] == variavelTIPOUEP, 'codigo'].values[0])\n",
    "\n",
    "# Passo 7 pegando o código referente eo tipo de serviço\n",
    "if variavelTIPOUEP == \"equipamentos especiais\":\n",
    "    codigo_serviço = \"960\"\n",
    "    \n",
    "else:\n",
    "    codigo_serviço = \"962\"\n",
    "\n",
    "\n",
    "# PASSO INTERMEDIARIO CASO QUEIRA COLOCAR AVISUALIZAÇÃO DO ULTIMO DOC (MAS PRECISA LISTAR OS ULTIMIOS DOCUMENTOS)\n",
    "\n",
    "# Passo 8 código do documento, juntando todas as variaveis\n",
    "codigoN1710 = variavelDOC + \"-\" + codigovariavelUEP + \"-\" + codigo_variavelUEP + \"-\"  + codigo_serviço + \"-\"  + \"PX9\" + \"-\"  + \"001\""
   ]
  },
  {
   "cell_type": "code",
   "execution_count": null,
   "id": "07b3cdb5",
   "metadata": {},
   "outputs": [],
   "source": []
  }
 ],
 "metadata": {
  "kernelspec": {
   "display_name": "Python 3 (ipykernel)",
   "language": "python",
   "name": "python3"
  },
  "language_info": {
   "codemirror_mode": {
    "name": "ipython",
    "version": 3
   },
   "file_extension": ".py",
   "mimetype": "text/x-python",
   "name": "python",
   "nbconvert_exporter": "python",
   "pygments_lexer": "ipython3",
   "version": "3.9.13"
  }
 },
 "nbformat": 4,
 "nbformat_minor": 5
}
